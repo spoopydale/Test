{
 "cells": [
  {
   "cell_type": "code",
   "execution_count": 21,
   "metadata": {},
   "outputs": [
    {
     "data": {
      "application/vnd.jupyter.widget-view+json": {
       "model_id": "c74b344f937e4dd1a4622890e350180e",
       "version_major": 2,
       "version_minor": 0
      },
      "text/plain": [
       "interactive(children=(FloatSlider(value=0.0, description='$D$', max=0.3, step=0.05), FloatSlider(value=1.0, de…"
      ]
     },
     "metadata": {},
     "output_type": "display_data"
    },
    {
     "data": {
      "text/plain": [
       "<function __main__.plot_func>"
      ]
     },
     "execution_count": 21,
     "metadata": {},
     "output_type": "execute_result"
    }
   ],
   "source": [
    "# dmi.py\n",
    "\n",
    "%matplotlib inline\n",
    "import matplotlib.pyplot as plt\n",
    "import numpy as np\n",
    "\n",
    "from ipywidgets import interact, interactive, fixed, interact_manual\n",
    "import ipywidgets as widgets\n",
    "\n",
    "# number of points\n",
    "M = 250\n",
    "\n",
    "def h(k, D, d1, dN, N):\n",
    "    # on-site potential matrix\n",
    "    M0 = 3.*np.eye(N)\n",
    "    M0[0][0] = 2.+d1\n",
    "    M0[N-1][N-1] = 2.+dN\n",
    "\n",
    "    # displacement matrices\n",
    "    T = np.matrix([[1 if i==j-1 else 0 for j in range(N)] for i in range(N)])\n",
    "    Tt = np.matrix([[1 if i==j+1 else 0 for j in range(N)] for i in range(N)])\n",
    "    TT = np.matrix([[1 if i==j-2 else 0 for j in range(N)] for i in range(N)])\n",
    "    TtTt = np.matrix([[1 if i==j+2 else 0 for j in range(N)] for i in range(N)])\n",
    "    \n",
    "    J1 = np.exp(-1.j*k)\n",
    "    J2 = np.exp(0.5j*k)\n",
    "    J3 = 1.j*D\n",
    "    J4 = 2.j*D*np.cos(1.5*k)\n",
    "\n",
    "    MD = J3*(TT-TtTt)+J4*(Tt-T)\n",
    "    M12 = -J1*np.eye(N)-J2*(Tt+T)\n",
    "\n",
    "    return np.block([[M0+MD, M12.getH()],\n",
    "                     [M12, M0-MD]])\n",
    "\n",
    "K = np.linspace(1.e-6, 2.*np.pi/3.-1.e-6, M)\n",
    "\n",
    "def plot_func(D, d1, dN, N):\n",
    "    E = []\n",
    "    Psi = []\n",
    "    for k in K:\n",
    "        e, psi = np.linalg.eig(h(k, D, d1, dN, N))\n",
    "        e = np.real(sorted(e))\n",
    "        E.append(e)\n",
    "        Psi.append(psi)\n",
    "        \n",
    "    plt.plot(K, E, 'C0')\n",
    "    plt.show()\n",
    "\n",
    "interact(plot_func,\n",
    "         D = widgets.FloatSlider(value=0., min=0., max=0.3, step=0.05, description='$D$'),\n",
    "         d1 = widgets.FloatSlider(value=1., min=0., max=4., step=0.2, description='$\\\\delta_1$'),\n",
    "         dN = widgets.FloatSlider(value=1., min=0., max=4., step=0.2, description='$\\\\delta_N$'),\n",
    "         N = widgets.IntSlider(value=25., min=5., max=100., step=5, description='$N$'))\n",
    "\n"
   ]
  },
  {
   "cell_type": "code",
   "execution_count": null,
   "metadata": {},
   "outputs": [],
   "source": []
  }
 ],
 "metadata": {
  "kernelspec": {
   "display_name": "Python 3",
   "language": "python",
   "name": "python3"
  },
  "language_info": {
   "codemirror_mode": {
    "name": "ipython",
    "version": 3
   },
   "file_extension": ".py",
   "mimetype": "text/x-python",
   "name": "python",
   "nbconvert_exporter": "python",
   "pygments_lexer": "ipython3",
   "version": "3.6.5"
  }
 },
 "nbformat": 4,
 "nbformat_minor": 2
}
